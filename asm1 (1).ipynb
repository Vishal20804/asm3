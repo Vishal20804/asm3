{
 "cells": [
  {
   "cell_type": "code",
   "execution_count": null,
   "id": "ef441397-a73a-4fcb-8940-6c2096e1278d",
   "metadata": {},
   "outputs": [],
   "source": [
    "ans:1\n",
    "# First, we will import the required modules  \n",
    "from bokeh.plotting import figure as fig  \n",
    "from bokeh.plotting import output_file as OF  \n",
    "from bokeh.plotting import show  \n",
    "output_file(\"jtp.html\")  \n",
    "         \n",
    "# Now, instantiate the figure object  \n",
    "graph1 = fig(title = \"Bokeh Bar Graph\")  \n",
    "     \n",
    "# x-coordinates to be plotted  \n",
    "x = [1, 2, 3, 4, 5, 6, 7, 8]  \n",
    "     \n",
    "# y-coordinates of the top edges  \n",
    "top1 = [5, 1, 4, 3, 2, 7, 6, 8]  \n",
    "     \n",
    "# width / thickness of the bars   \n",
    "width1 = 0.7  \n",
    "     \n",
    "# plot the graph  \n",
    "graph1.vbar(x,  \n",
    "           top = top1,  \n",
    "           width = width1,  \n",
    "           color = \"green\")  \n",
    "     \n",
    "# display the model  \n",
    "show(graph1)  "
   ]
  },
  {
   "cell_type": "code",
   "execution_count": null,
   "id": "d023e6e1-bd70-4e0e-8794-bed2ff5f6440",
   "metadata": {},
   "outputs": [],
   "source": [
    "Ans:2\n",
    "In Bokeh, glyphs are visual markers used to represent data on a plot. They can be used to display points, lines, bars, patches, and other graphical elements. Glyphs allow you to visually encode your data and customize their appearance using various attributes such as color, size, and shape.\n"
   ]
  },
  {
   "cell_type": "code",
   "execution_count": null,
   "id": "50164a95-314e-472e-af99-b3e2f12842d9",
   "metadata": {},
   "outputs": [],
   "source": [
    "ans:3\n",
    "\n",
    "To customize the appearance of a Bokeh plot, including the axes, title, and legend, you can use various properties and methods provided by Bokeh. Here's an overview of how you can achieve this:\n",
    "Customize the title and axes\n",
    "Customize the legend\n",
    "Customize other visual aspects"
   ]
  },
  {
   "cell_type": "code",
   "execution_count": null,
   "id": "47e2380e-4c14-48e5-abbb-bed4fbe33a35",
   "metadata": {},
   "outputs": [],
   "source": [
    "ans:4\n",
    "Bokeh server is a key component of the Bokeh library that allows you to create interactive plots and applications that can be updated in real time. It enables the creation of dynamic visualizations that respond to user interactions or changing data. The Bokeh server is designed to handle the communication between a Python process running on a server and a web browser, allowing for bidirectional communication and real-time updates."
   ]
  }
 ],
 "metadata": {
  "kernelspec": {
   "display_name": "Python 3 (ipykernel)",
   "language": "python",
   "name": "python3"
  },
  "language_info": {
   "codemirror_mode": {
    "name": "ipython",
    "version": 3
   },
   "file_extension": ".py",
   "mimetype": "text/x-python",
   "name": "python",
   "nbconvert_exporter": "python",
   "pygments_lexer": "ipython3",
   "version": "3.10.8"
  }
 },
 "nbformat": 4,
 "nbformat_minor": 5
}
